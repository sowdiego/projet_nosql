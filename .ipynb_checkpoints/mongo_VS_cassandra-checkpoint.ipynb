{
 "cells": [
  {
   "cell_type": "code",
   "execution_count": 6,
   "id": "bf55fe58",
   "metadata": {},
   "outputs": [],
   "source": [
    "# Importer les bibliothèques nécessaires\n",
    "import time\n",
    "import random\n",
    "from pymongo import MongoClient\n",
    "from cassandra.cluster import Cluster"
   ]
  },
  {
   "cell_type": "code",
   "execution_count": 7,
   "id": "b411338f",
   "metadata": {},
   "outputs": [],
   "source": [
    "# Connexion à MongoDB\n",
    "mongo_client = MongoClient('localhost', 27017)\n",
    "mongo_db = mongo_client.test_db\n",
    "mongo_collection = mongo_db.compare_collection"
   ]
  },
  {
   "cell_type": "code",
   "execution_count": 11,
   "id": "6380bfed",
   "metadata": {},
   "outputs": [
    {
     "data": {
      "text/plain": [
       "<cassandra.cluster.ResultSet at 0x117a32390>"
      ]
     },
     "execution_count": 11,
     "metadata": {},
     "output_type": "execute_result"
    }
   ],
   "source": [
    "# Connexion à Cassandra\n",
    "cassandra_cluster = Cluster(['127.0.0.1'])\n",
    "cassandra_session = cassandra_cluster.connect()\n",
    "\n",
    "# Créer un Keyspace et une Table\n",
    "cassandra_session.execute(\"\"\"\n",
    "CREATE KEYSPACE IF NOT EXISTS compare_keyspace\n",
    "WITH replication = {'class': 'SimpleStrategy', 'replication_factor' : 3}\n",
    "\"\"\")\n",
    "cassandra_session.execute(\"USE compare_keyspace\")\n",
    "cassandra_session.execute(\"\"\"\n",
    "CREATE TABLE IF NOT EXISTS test_table (\n",
    "    id int PRIMARY KEY,\n",
    "    nom text,\n",
    "    code int\n",
    ")\n",
    "\"\"\")"
   ]
  },
  {
   "cell_type": "code",
   "execution_count": null,
   "id": "44d00fb7",
   "metadata": {},
   "outputs": [],
   "source": [
    "cassandra_session.set_keyspace('compare_keyspace')"
   ]
  },
  {
   "cell_type": "code",
   "execution_count": 12,
   "id": "58972c0f",
   "metadata": {},
   "outputs": [],
   "source": [
    "# Charger des données etudiant dans MongoDB\n",
    "def load_data_mongodb():\n",
    "    for i in range(1000):\n",
    "        mongo_collection.insert_one({\n",
    "            'id': i,\n",
    "            'nom': f'User {i}',\n",
    "            'code': random.randint(1, 1000)\n",
    "        })"
   ]
  },
  {
   "cell_type": "code",
   "execution_count": 13,
   "id": "ece4a51f",
   "metadata": {},
   "outputs": [],
   "source": [
    "# Charger des données etudiant dans Cassandra\n",
    "def load_data_cassandra():\n",
    "    for i in range(1000):\n",
    "        cassandra_session.execute(\"\"\"\n",
    "        INSERT INTO test_table (id, nom, code)\n",
    "        VALUES (%s, %s, %s)\n",
    "        \"\"\", (i, f'User {i}', random.randint(1, 1000)))"
   ]
  },
  {
   "cell_type": "code",
   "execution_count": 17,
   "id": "d208dbc8",
   "metadata": {},
   "outputs": [],
   "source": [
    "# Mesurer les performances d'écriture\n",
    "def write_performance():\n",
    "    # MongoDB\n",
    "    start_time = time.time()\n",
    "    for i in range(1000, 2000):\n",
    "        mongo_collection.insert_one({\n",
    "            'id': i,\n",
    "            'nom': f'User {i}',\n",
    "            'code': random.randint(1, 1000)\n",
    "        })\n",
    "    mongo_write_time = time.time() - start_time\n",
    "    # Cassandra\n",
    "    start_time = time.time()\n",
    "    for i in range(1000, 2000):\n",
    "        cassandra_session.execute(\"\"\"\n",
    "        INSERT INTO test_table (id, nom, code)\n",
    "        VALUES (%s, %s, %s)\n",
    "        \"\"\", (i, f'User {i}', random.randint(1, 1000)))\n",
    "    cassandra_write_time = time.time() - start_time\n",
    "\n",
    "    print(f\"Temps d'écriture dans MongoDB: {mongo_write_time} secondes\")\n",
    "    print(f\"Temps d'écriture dans Cassandra: {cassandra_write_time} secondes\")"
   ]
  },
  {
   "cell_type": "code",
   "execution_count": 18,
   "id": "c17155b5",
   "metadata": {},
   "outputs": [],
   "source": [
    "# Mesurer les performances de lecture\n",
    "def read_performance():\n",
    "    # MongoDB\n",
    "    start_time = time.time()\n",
    "    for i in range(2000):\n",
    "        mongo_collection.find_one({'id': i})\n",
    "    mongo_read_time = time.time() - start_time\n",
    "\n",
    "    # Cassandra\n",
    "    start_time = time.time()\n",
    "    for i in range(2000):\n",
    "        cassandra_session.execute(\"SELECT * FROM test_table WHERE id=%s\", (i,))\n",
    "    cassandra_read_time = time.time() - start_time\n",
    "\n",
    "    print(f\"Temps de lecture dans MongoDB: {mongo_read_time} secondes\")\n",
    "    print(f\"Temps de lecture dans Cassandra: {cassandra_read_time} secondes\")\n"
   ]
  },
  {
   "cell_type": "code",
   "execution_count": 19,
   "id": "966c199d",
   "metadata": {},
   "outputs": [
    {
     "name": "stdout",
     "output_type": "stream",
     "text": [
      "Données chargées dans MongoDB\n",
      "Données chargées dans Cassandra\n",
      "Temps d'écriture dans MongoDB: 0.10527491569519043 secondes\n",
      "Temps d'écriture dans Cassandra: 0.2914581298828125 secondes\n",
      "Temps de lecture dans MongoDB: 0.5030920505523682 secondes\n",
      "Temps de lecture dans Cassandra: 0.9242041110992432 secondes\n"
     ]
    }
   ],
   "source": [
    "# Charger les données dans les deux bases de données\n",
    "load_data_mongodb()\n",
    "load_data_cassandra()\n",
    "\n",
    "# Mesurer les performances\n",
    "write_performance()\n",
    "read_performance()"
   ]
  },
  {
   "cell_type": "code",
   "execution_count": null,
   "id": "0de1c254",
   "metadata": {},
   "outputs": [],
   "source": []
  }
 ],
 "metadata": {
  "kernelspec": {
   "display_name": "Python 3 (ipykernel)",
   "language": "python",
   "name": "python3"
  },
  "language_info": {
   "codemirror_mode": {
    "name": "ipython",
    "version": 3
   },
   "file_extension": ".py",
   "mimetype": "text/x-python",
   "name": "python",
   "nbconvert_exporter": "python",
   "pygments_lexer": "ipython3",
   "version": "3.11.4"
  }
 },
 "nbformat": 4,
 "nbformat_minor": 5
}
